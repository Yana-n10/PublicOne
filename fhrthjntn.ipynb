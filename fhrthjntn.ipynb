{
  "nbformat": 4,
  "nbformat_minor": 0,
  "metadata": {
    "colab": {
      "provenance": [],
      "authorship_tag": "ABX9TyPUliA/Ii8SIILexXuSA8lj",
      "include_colab_link": true
    },
    "kernelspec": {
      "name": "python3",
      "display_name": "Python 3"
    },
    "language_info": {
      "name": "python"
    }
  },
  "cells": [
    {
      "cell_type": "markdown",
      "metadata": {
        "id": "view-in-github",
        "colab_type": "text"
      },
      "source": [
        "<a href=\"https://colab.research.google.com/github/Yana-n10/PublicOne/blob/main/fhrthjntn.ipynb\" target=\"_parent\"><img src=\"https://colab.research.google.com/assets/colab-badge.svg\" alt=\"Open In Colab\"/></a>"
      ]
    },
    {
      "cell_type": "code",
      "source": [
        "nm = input().split()\n",
        "for i in range (len(nm)):\n",
        "  nm[i]=int(nm[i])\n",
        "n = nm[0]\n",
        "m = nm[1]\n",
        "b=[]\n",
        "for u in range(n):\n",
        "  a = input().split()\n",
        "  for y in range(len(a)):\n",
        "    a[y]=int(a[y])\n",
        "  b.append(a)\n",
        "k=b[0][0]\n",
        "f=0\n",
        "g=0\n",
        "for e in range (n):\n",
        "  for t in range (m):\n",
        "    if b[e][t]>k:\n",
        "      k=b[e][t]\n",
        "      f=e\n",
        "      g=t\n",
        "print(f, g)\n"
      ],
      "metadata": {
        "id": "uRM9JuFSsKnc"
      },
      "execution_count": null,
      "outputs": []
    },
    {
      "cell_type": "code",
      "source": [
        "#снежинка\n",
        "n = int(input())\n",
        "a=[]\n",
        "for i in range (n):\n",
        "  a.append(['.']*n)\n",
        "for u in range(n):\n",
        "  for y in range (n):\n",
        "    if u == y or u== n//2 or y==n//2 or u==n-1-y:\n",
        "      a[u][y]='*'\n",
        "for u in range (n):\n",
        "  for y in range (n):\n",
        "    print(a[u][y], end=' ')\n",
        "  print()"
      ],
      "metadata": {
        "colab": {
          "base_uri": "https://localhost:8080/"
        },
        "id": "3fqg1s-AhWzw",
        "outputId": "91b0a8ae-5547-4ec5-dcda-1c84076c3bda"
      },
      "execution_count": null,
      "outputs": [
        {
          "output_type": "stream",
          "name": "stdout",
          "text": [
            "4\n",
            "[9, 1, 2, 3, ['.', '.', '.', '.'], ['.', '.', '.', '.'], ['.', '.', '.', '.'], ['.', '.', '.', '.'], ['.', '.', '.', '.'], ['.', '.', '.', '.'], ['.', '.', '.', '.'], ['.', '.', '.', '.'], ['.', '.', '.', '.'], ['.', '.', '.', '.'], ['.', '.', '.', '.'], ['.', '.', '.', '.']]\n"
          ]
        }
      ]
    },
    {
      "cell_type": "code",
      "source": [
        "#задача про шахматы\n",
        "nm = input().split()\n",
        "for i in range (len(nm)):\n",
        "  nm[i]=int(nm[i])\n",
        "n=nm[0]\n",
        "m=nm[1]\n",
        "a=[]\n",
        "for u in range (n):\n",
        "  a.append(['.']*m)\n",
        "for y in range (n):\n",
        "  for t in range(m):\n",
        "    if (y%2==0 and t%2!=0) or (y%2!=0 and t%2==0):\n",
        "      a[y][t]='*'\n",
        "for y in range (n):\n",
        "  for t in range (m):\n",
        "    print (a[y][t], end=' ')\n",
        "  print()"
      ],
      "metadata": {
        "id": "OzH-j51Jfgnb"
      },
      "execution_count": null,
      "outputs": []
    },
    {
      "cell_type": "code",
      "source": [
        "#Диагонали параллельные главной\n",
        "n=int(input())\n",
        "a=[]\n",
        "for i in range (n):\n",
        "  a.append([0]*n)\n",
        "k=0\n",
        "while n-k!=0:\n",
        "  for i in range (n):\n",
        "    for j in range (n):\n",
        "      if abs(j-i)==k:\n",
        "        a[i][j]=k\n",
        "  k+=1\n",
        "for i in range(n):\n",
        "  for j in range(n):\n",
        "    print(a[i][j], end=' ')\n",
        "  print()"
      ],
      "metadata": {
        "id": "gcpVTy1-jJ4u"
      },
      "execution_count": null,
      "outputs": []
    },
    {
      "cell_type": "code",
      "source": [
        "#Побочная диагональ\n",
        "n = int(input())\n",
        "a=[]\n",
        "for i in range (n):\n",
        "  a.append([1]*n)\n",
        "for i in range(n):\n",
        "  for j in range (n):\n",
        "    if j>n-1-i:\n",
        "      a[i][j]=2\n",
        "    elif j<n-1-i:\n",
        "      a[i][j]=0\n",
        "for i in range (n):\n",
        "  for j in range (n):\n",
        "    print(a[i][j], end=' ')\n",
        "  print()"
      ],
      "metadata": {
        "id": "EQgYirJmpm6o"
      },
      "execution_count": null,
      "outputs": []
    },
    {
      "cell_type": "code",
      "source": [
        "#Поменять столбцы\n",
        "nm = input().split()\n",
        "for i in range (len(nm)):\n",
        "  nm[i]=int(nm[i])\n",
        "n = nm[0]\n",
        "m = nm[1]\n",
        "a=[]\n",
        "for u in range(n):\n",
        "  b = input().split()\n",
        "  for y in range(len(b)):\n",
        "    b[y]=int(b[y])\n",
        "  a.append(b)\n",
        "def SwapColumns (a, i, j):\n",
        "  for u in range (n):\n",
        "    c=a[u][i]\n",
        "    a[u][i]=a[u][j]\n",
        "    a[u][j]=c\n",
        "  return a\n",
        "ij = input().split()\n",
        "for i in range (len(ij)):\n",
        "  ij[i]=int(ij[i])\n",
        "i = ij[0]\n",
        "j = ij[1]\n",
        "f=SwapColumns (a, i, j)\n",
        "for u in range (n):\n",
        "  for y in range (m):\n",
        "    print(f[u][y], end=' ')\n",
        "  print()"
      ],
      "metadata": {
        "id": "wGvlcCORwxFj"
      },
      "execution_count": null,
      "outputs": []
    },
    {
      "cell_type": "code",
      "source": [
        "#Симметричен ли массив?\n",
        "n=int(input())\n",
        "a=[]\n",
        "for u in range(n):\n",
        "  d = input().split()\n",
        "  for y in range(len(d)):\n",
        "    d[y]=int(d[y])\n",
        "  a.append(d)\n",
        "\n",
        "def IsSymmetric(a):\n",
        "  c=0\n",
        "  for i in range (n):\n",
        "    for u in range (n):\n",
        "      if a[i][u]==a[u][i]:\n",
        "        c+=1\n",
        "  if c==n**2:\n",
        "    return 'YES'\n",
        "  else:\n",
        "    return 'NO'\n",
        "print(IsSymmetric(a))"
      ],
      "metadata": {
        "id": "fMPMM_-T4VPp",
        "colab": {
          "base_uri": "https://localhost:8080/"
        },
        "outputId": "2c77a316-f662-4d18-b32f-94561fe41dc9"
      },
      "execution_count": 1,
      "outputs": [
        {
          "output_type": "stream",
          "name": "stdout",
          "text": [
            "0\n",
            "YES\n"
          ]
        }
      ]
    },
    {
      "cell_type": "code",
      "source": [
        "#k-я диагональ\n",
        "n = int(input())\n",
        "a=[]\n",
        "for i in range (n):\n",
        "  v=input().split()\n",
        "  for u in range(len(v)):\n",
        "    v[u]=int(v[u])\n",
        "  a.append(v)\n",
        "k=int(input())\n",
        "c=[]\n",
        "for i in range (n):\n",
        "  for j in range (n):\n",
        "    if j==i-k and i-k>=0:\n",
        "      c.append(a[i][j])\n",
        "for t in range(len(c)):\n",
        "  print (c[t], end=' ')"
      ],
      "metadata": {
        "id": "aOYSO7V1D8C4"
      },
      "execution_count": null,
      "outputs": []
    },
    {
      "cell_type": "code",
      "source": [
        "#Транспонировать квадратную матрицу\n",
        "n = int(input())\n",
        "a=[]\n",
        "for i in range (n):\n",
        "  v=input().split()\n",
        "  for u in range(len(v)):\n",
        "    v[u]=int(v[u])\n",
        "  a.append(v)\n",
        "def Transpose (a):\n",
        "  for i in range (n):\n",
        "    for j in range (n):\n",
        "      if j-i>0:\n",
        "        c=a[i][j]\n",
        "        a[i][j]=a[j][i]\n",
        "        a[j][i]=c\n",
        "  return a\n",
        "f=Transpose (a)\n",
        "for u in range (n):\n",
        "  for y in range (n):\n",
        "    print(f[u][y], end=' ')\n",
        "  print()"
      ],
      "metadata": {
        "id": "tQY5ggH5HcLe"
      },
      "execution_count": null,
      "outputs": []
    },
    {
      "cell_type": "code",
      "source": [
        "#Поменять две диагонали\n",
        "n = int(input())\n",
        "a=[]\n",
        "for i in range (n):\n",
        "  v=input().split()\n",
        "  for u in range(len(v)):\n",
        "    v[u]=int(v[u])\n",
        "  a.append(v)\n",
        "def SwapDiagonals (a):\n",
        "  for i in range (n):\n",
        "    for j in range (n):\n",
        "      if j==n-1-i:\n",
        "        c=a[i][j]\n",
        "        a[i][j]=a[j][j]\n",
        "        a[j][j]=c\n",
        "  return a\n",
        "f=SwapDiagonals (a)\n",
        "for u in range (n):\n",
        "  for y in range (n):\n",
        "    print(f[u][y], end=' ')\n",
        "  print()"
      ],
      "metadata": {
        "id": "dn6UG4kkJyVU"
      },
      "execution_count": null,
      "outputs": []
    },
    {
      "cell_type": "code",
      "source": [
        "#Треугольник Паскаля - 2\n",
        "n=int(input())\n",
        "s=[]\n",
        "for i in range (n):\n",
        "  r=[1]*(i+1)\n",
        "  for j in range (i+1):\n",
        "    if j!=0 and j!=i:\n",
        "      r[j]=s[i-1][j-1]+s[i-1][j]\n",
        "  s.append(r)\n",
        "for i in s:\n",
        "  for j in i:\n",
        "    j=str(j)\n",
        "    print(j.rjust(6), end='')\n",
        "  print()\n",
        "\n",
        "  #или так\n",
        "n=int(input())\n",
        "a=[]\n",
        "for i in range (n):\n",
        "  a.append([0]*n)\n",
        "for i in range (0, n):\n",
        "  for j in range (1, n):\n",
        "    a[i][0]=1\n",
        "    a[i][j]=a[i-1][j-1]+a[i-1][j]\n",
        "for i in range (n):\n",
        "  for j in range (n):\n",
        "    if a[i][j]!=0:\n",
        "      print(a[i][j], end=' ')\n",
        "  print()"
      ],
      "metadata": {
        "id": "SEpSB_J8ZkvN"
      },
      "execution_count": null,
      "outputs": []
    },
    {
      "cell_type": "code",
      "source": [
        "#Ходы коня\n",
        "n=input()\n",
        "a='abcdefgh'\n",
        "b='87654321'\n",
        "x=n[0]\n",
        "y=n[1]\n",
        "jk=a.find(x)\n",
        "ik=b.find(y)\n",
        "c=[]\n",
        "for i in range (8):\n",
        "  c.append(['.']*8)\n",
        "c[ik][jk]='K'\n",
        "for i in range (8):\n",
        "  for j in range(8):\n",
        "    if 7>=jk-2>=0:\n",
        "      if 7>=ik+1>=0:\n",
        "        c[ik+1][jk-2]='*'\n",
        "      if 7>=ik-1>=0:\n",
        "        c[ik-1][jk-2]='*'\n",
        "    if 7>=jk+2>=0:\n",
        "      if 7>=ik+1>=0:\n",
        "        c[ik+1][jk+2]='*'\n",
        "      if 7>=ik-1>=0:\n",
        "        c[ik-1][jk+2]='*'\n",
        "    if 7>=ik+2>=0:\n",
        "      if 7>=jk-1>=0:\n",
        "        c[ik+2][jk-1]='*'\n",
        "      if 7>=jk+1>=0:\n",
        "        c[ik+2][jk+1]='*'\n",
        "    if 7>=ik-2>=0:\n",
        "      if 7>=jk-1>=0:\n",
        "        c[ik-2][jk-1]='*'\n",
        "      if 7>=jk+1>=0:\n",
        "        c[ik-2][jk+1]='*'\n",
        "for i in range (8):\n",
        "  for j in range(8):\n",
        "    print(c[i][j], end=' ')\n",
        "  print()"
      ],
      "metadata": {
        "id": "mp-mVes511wz"
      },
      "execution_count": null,
      "outputs": []
    },
    {
      "cell_type": "code",
      "source": [
        "#k-мерный список\n",
        "k=int(input())\n",
        "def f(k):\n",
        "    if k==1:\n",
        "        return [0,0]\n",
        "    else:\n",
        "        return [f(k-1),f(k-1)]\n",
        "print(f(k))"
      ],
      "metadata": {
        "id": "KVQO-HSB5WjZ"
      },
      "execution_count": null,
      "outputs": []
    },
    {
      "cell_type": "code",
      "source": [
        "#Две половинки\n",
        "a=input()\n",
        "v=a[0:-1*(len(a)//2)]\n",
        "b=a[-1*(len(a)//2):]\n",
        "print(b+v)"
      ],
      "metadata": {
        "id": "jL71LRjRN7WM"
      },
      "execution_count": null,
      "outputs": []
    },
    {
      "cell_type": "code",
      "source": [
        "#Переставить два слова\n",
        "a=input()\n",
        "d=a.find(' ')\n",
        "v=a[0:d]\n",
        "b=a[d+1:]\n",
        "print(b+' '+v)"
      ],
      "metadata": {
        "id": "L06tOJQLO2j6"
      },
      "execution_count": null,
      "outputs": []
    },
    {
      "cell_type": "code",
      "source": [
        "#Первое и последнее вхождение\n",
        "a=input()\n",
        "d=a.find('f')\n",
        "g=a.rfind('f')\n",
        "if d==g!=-1:\n",
        "  print(d)\n",
        "elif d!=g:\n",
        "  print(d, g)"
      ],
      "metadata": {
        "id": "w6WsIXN3QPKT"
      },
      "execution_count": null,
      "outputs": []
    },
    {
      "cell_type": "code",
      "source": [
        "# Второе вхождение\n",
        "a=input()\n",
        "d=a.find('f')\n",
        "if d==-1:\n",
        "  print(-2)\n",
        "else:\n",
        "  c=a[d+1:]\n",
        "  g=c.find('f')\n",
        "  if g==-1:\n",
        "    print(g)\n",
        "  else:\n",
        "    print(g+d+1)"
      ],
      "metadata": {
        "id": "9xFkX9dwUD8u"
      },
      "execution_count": null,
      "outputs": []
    },
    {
      "cell_type": "code",
      "source": [
        "#Замена подстроки\n",
        "a=input()\n",
        "d=a.find('h')\n",
        "g=a.rfind('h')\n",
        "x=a[d+1:g]\n",
        "c=x[::-1]\n",
        "v=a[0:d]\n",
        "b=a[g+1:]\n",
        "print(v+'h'+c+'h'+b)"
      ],
      "metadata": {
        "id": "8FvtQLLWZXCn"
      },
      "execution_count": null,
      "outputs": []
    },
    {
      "cell_type": "code",
      "source": [
        "#Вставка символов\n",
        "a=input()\n",
        "s=a[0]\n",
        "for i in range(1, len(a)):\n",
        "  s=s+'*'+a[i]\n",
        "print(s)"
      ],
      "metadata": {
        "id": "h5GSEm1-a3L-"
      },
      "execution_count": null,
      "outputs": []
    }
  ]
}